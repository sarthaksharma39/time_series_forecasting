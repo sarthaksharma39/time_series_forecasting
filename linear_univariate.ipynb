{
  "nbformat": 4,
  "nbformat_minor": 0,
  "metadata": {
    "colab": {
      "provenance": [],
      "authorship_tag": "ABX9TyM3P+wVtSdA7dDj2W6YyKQs",
      "include_colab_link": true
    },
    "kernelspec": {
      "name": "python3",
      "display_name": "Python 3"
    },
    "language_info": {
      "name": "python"
    }
  },
  "cells": [
    {
      "cell_type": "markdown",
      "metadata": {
        "id": "view-in-github",
        "colab_type": "text"
      },
      "source": [
        "<a href=\"https://colab.research.google.com/github/sarthaksharma39/time_series_forecasting/blob/main/linear_univariate.ipynb\" target=\"_parent\"><img src=\"https://colab.research.google.com/assets/colab-badge.svg\" alt=\"Open In Colab\"/></a>"
      ]
    },
    {
      "cell_type": "code",
      "source": [
        "import pandas as pd\n",
        "from matplotlib import pyplot as plt\n",
        "from sklearn.linear_model import LinearRegression\n",
        "from sklearn.model_selection import train_test_split\n"
      ],
      "metadata": {
        "id": "EygRwWnqrtkv"
      },
      "execution_count": 20,
      "outputs": []
    },
    {
      "cell_type": "code",
      "source": [
        "# Assuming df is your DataFrame\n",
        "df = pd.read_csv('PJME_hourly.csv')\n",
        "df.index.freq = 'MS'\n",
        "\n",
        "# Convert 'Datetime' to datetime type\n",
        "df['Datetime'] = pd.to_datetime(df['Datetime'])\n",
        "\n",
        "# Extract date component\n",
        "df['Date'] = df['Datetime'].dt.date\n"
      ],
      "metadata": {
        "id": "i81tpsg4r3hs"
      },
      "execution_count": 22,
      "outputs": []
    },
    {
      "cell_type": "code",
      "source": [
        "# Create a linear regression model\n",
        "# model = LinearRegression()\n"
      ],
      "metadata": {
        "id": "UVuhF10Dr7SW"
      },
      "execution_count": 23,
      "outputs": []
    },
    {
      "cell_type": "code",
      "source": [
        "\n",
        "# # Prepare the data\n",
        "# X = df[['Date']]  # Use double brackets to keep X as a DataFrame\n",
        "# y = df['PJME_MW']\n",
        "\n",
        "# # Split the data into training and testing sets\n",
        "# X_train, X_test, y_train, y_test = train_test_split(X, y, test_size=0.33, random_state=42)\n"
      ],
      "metadata": {
        "id": "wl3n6i-ur_aq"
      },
      "execution_count": 24,
      "outputs": []
    },
    {
      "cell_type": "code",
      "source": [
        "from datetime import datetime, timedelta"
      ],
      "metadata": {
        "id": "rRn0VykIsQAe"
      },
      "execution_count": 28,
      "outputs": []
    },
    {
      "cell_type": "code",
      "source": [
        "reference_date = datetime(1970, 1, 1)\n",
        "df['DaysSinceReference'] = (df['Datetime'] - reference_date).dt.days\n",
        "\n",
        "# Create a linear regression model\n",
        "model = LinearRegression()\n",
        "\n",
        "# Prepare the data\n",
        "X = df[['DaysSinceReference']]\n",
        "y = df['PJME_MW']\n"
      ],
      "metadata": {
        "id": "rlWXP7ZxtOi4"
      },
      "execution_count": 29,
      "outputs": []
    },
    {
      "cell_type": "code",
      "source": [
        "# Split the data into training and testing sets\n",
        "X_train, X_test, y_train, y_test = train_test_split(X, y, test_size=0.33, random_state=42)\n",
        "\n",
        "# Train the model\n",
        "model.fit(X_train, y_train)\n",
        "\n",
        "# Make predictions\n",
        "predictions = model.predict(X_test)\n",
        "\n",
        "# Print coefficients and intercept\n",
        "print('Coefficients:', model.coef_)\n",
        "print('Intercept:', model.intercept_)"
      ],
      "metadata": {
        "colab": {
          "base_uri": "https://localhost:8080/"
        },
        "id": "w58FceWPtXFL",
        "outputId": "00b85eba-ed6d-47ee-bc22-eca5adda0102"
      },
      "execution_count": 30,
      "outputs": [
        {
          "output_type": "stream",
          "name": "stdout",
          "text": [
            "Coefficients: [-0.22071146]\n",
            "Intercept: 35340.73987517442\n"
          ]
        }
      ]
    },
    {
      "cell_type": "code",
      "source": [
        "\n",
        "# # Train the model\n",
        "# model.fit(X_train, y_train)\n",
        "\n",
        "# # Make predictions\n",
        "# predictions = model.predict(X_test)\n",
        "\n",
        "# # Print coefficients and intercept\n",
        "# print('Coefficients:', model.coef_)\n",
        "# print('Intercept:', model.intercept_)\n"
      ],
      "metadata": {
        "id": "jiXBeM4nrfoV"
      },
      "execution_count": 31,
      "outputs": []
    },
    {
      "cell_type": "code",
      "source": [
        "from sklearn.metrics import mean_squared_error, mean_absolute_error, r2_score\n",
        "\n",
        "# Assuming 'predictions' contains the predicted values on the test set\n",
        "# y_test contains the actual values\n",
        "\n",
        "# Calculate mean squared error\n",
        "mse = mean_squared_error(y_test, predictions)\n",
        "\n",
        "# Calculate mean absolute error\n",
        "mae = mean_absolute_error(y_test, predictions)\n",
        "\n",
        "# Calculate R-squared\n",
        "r2 = r2_score(y_test, predictions)\n",
        "\n",
        "# Print the metrics\n",
        "print('Mean Squared Error:', mse)\n",
        "print('Mean Absolute Error:', mae)\n",
        "print('R-squared:', r2)\n"
      ],
      "metadata": {
        "colab": {
          "base_uri": "https://localhost:8080/"
        },
        "id": "1mQhNnWSuByR",
        "outputId": "63231da2-139f-458a-d819-2952681c6443"
      },
      "execution_count": 38,
      "outputs": [
        {
          "output_type": "stream",
          "name": "stdout",
          "text": [
            "Mean Squared Error: 41267694.7942069\n",
            "Mean Absolute Error: 4976.936201374067\n",
            "R-squared: 0.004102125942264334\n"
          ]
        }
      ]
    }
  ]
}